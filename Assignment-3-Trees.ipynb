{
 "cells": [
  {
   "cell_type": "code",
   "execution_count": null,
   "id": "b0913bb0",
   "metadata": {},
   "outputs": [],
   "source": [
    "# 1.Implement the binary tree"
   ]
  },
  {
   "cell_type": "code",
   "execution_count": 2,
   "id": "b2c42a5e",
   "metadata": {},
   "outputs": [
    {
     "name": "stdout",
     "output_type": "stream",
     "text": [
      "[1, 2, 3, 4, 5, 6, 7]\n"
     ]
    }
   ],
   "source": [
    "class BinaryTree:\n",
    "    def __init__(self):\n",
    "        self.tree = []\n",
    "    \n",
    "    def insert(self, value):\n",
    "        self.tree.append(value)\n",
    "    \n",
    "    def get_left_child(self, index):\n",
    "        left_index = 2 * index + 1\n",
    "        if left_index < len(self.tree):\n",
    "            return left_index\n",
    "        return None\n",
    "    \n",
    "    def get_right_child(self, index):\n",
    "        right_index = 2 * index + 2\n",
    "        if right_index < len(self.tree):\n",
    "            return right_index\n",
    "        return None\n",
    "    \n",
    "    def get_parent(self, index):\n",
    "        if index == 0:\n",
    "            return None\n",
    "        parent_index = (index - 1) // 2\n",
    "        return parent_index\n",
    "    \n",
    "    def display(self):\n",
    "        print(self.tree)\n",
    "\n",
    "# Create a sample binary tree using a linear structure\n",
    "tree = BinaryTree()\n",
    "tree.insert(1)\n",
    "tree.insert(2)\n",
    "tree.insert(3)\n",
    "tree.insert(4)\n",
    "tree.insert(5)\n",
    "tree.insert(6)\n",
    "tree.insert(7)\n",
    "\n",
    "tree.display()"
   ]
  },
  {
   "cell_type": "code",
   "execution_count": null,
   "id": "eb0cebb1",
   "metadata": {},
   "outputs": [],
   "source": [
    "# 2.Find height of a given tree"
   ]
  },
  {
   "cell_type": "code",
   "execution_count": 5,
   "id": "fead8f71",
   "metadata": {},
   "outputs": [
    {
     "name": "stdout",
     "output_type": "stream",
     "text": [
      "Height of the tree: 2\n"
     ]
    }
   ],
   "source": [
    "class BinaryTree:\n",
    "    def __init__(self):\n",
    "        self.tree = []\n",
    "    \n",
    "    def insert(self, value):\n",
    "        self.tree.append(value)\n",
    "    \n",
    "    def find_height(self):\n",
    "        return self._find_height_recursive(0)\n",
    "    \n",
    "    def _find_height_recursive(self, index):\n",
    "        if index >= len(self.tree):\n",
    "            return -1\n",
    "        \n",
    "        left_height = self._find_height_recursive(2 * index + 1)\n",
    "        right_height = self._find_height_recursive(2 * index + 2)\n",
    "        \n",
    "        return max(left_height, right_height) + 1\n",
    "\n",
    "# Create a sample binary tree using a linear structure\n",
    "tree = BinaryTree()\n",
    "tree.insert(1)\n",
    "tree.insert(2)\n",
    "tree.insert(3)\n",
    "tree.insert(4)\n",
    "tree.insert(5)\n",
    "tree.insert(6)\n",
    "tree.insert(7)\n",
    "\n",
    "height = tree.find_height()\n",
    "print(\"Height of the tree:\", height)"
   ]
  },
  {
   "cell_type": "code",
   "execution_count": null,
   "id": "b20f1b45",
   "metadata": {},
   "outputs": [],
   "source": [
    "# 3.Perform Pre-order, Post-order, In-order traversal"
   ]
  },
  {
   "cell_type": "code",
   "execution_count": 7,
   "id": "e5810cc1",
   "metadata": {},
   "outputs": [
    {
     "name": "stdout",
     "output_type": "stream",
     "text": [
      "Pre-order traversal:\n",
      "1 2 4 5 3 6 7 \n",
      "Post-order traversal:\n",
      "4 5 2 6 7 3 1 \n",
      "In-order traversal:\n",
      "4 2 5 1 6 3 7 \n"
     ]
    }
   ],
   "source": [
    "class BinaryTree:\n",
    "    def __init__(self):\n",
    "        self.tree = []\n",
    "    \n",
    "    def insert(self, value):\n",
    "        self.tree.append(value)\n",
    "    \n",
    "    def pre_order(self):\n",
    "        self._pre_order_recursive(0)\n",
    "        print()\n",
    "    \n",
    "    def _pre_order_recursive(self, index):\n",
    "        if index >= len(self.tree):\n",
    "            return\n",
    "        print(self.tree[index], end=\" \")\n",
    "        self._pre_order_recursive(2 * index + 1)\n",
    "        self._pre_order_recursive(2 * index + 2)\n",
    "    \n",
    "    def post_order(self):\n",
    "        self._post_order_recursive(0)\n",
    "        print()\n",
    "    \n",
    "    def _post_order_recursive(self, index):\n",
    "        if index >= len(self.tree):\n",
    "            return\n",
    "        self._post_order_recursive(2 * index + 1)\n",
    "        self._post_order_recursive(2 * index + 2)\n",
    "        print(self.tree[index], end=\" \")\n",
    "    \n",
    "    def in_order(self):\n",
    "        self._in_order_recursive(0)\n",
    "        print()\n",
    "    \n",
    "    def _in_order_recursive(self, index):\n",
    "        if index >= len(self.tree):\n",
    "            return\n",
    "        self._in_order_recursive(2 * index + 1)\n",
    "        print(self.tree[index], end=\" \")\n",
    "        self._in_order_recursive(2 * index + 2)\n",
    "\n",
    "# Create a sample binary tree using a linear structure\n",
    "tree = BinaryTree()\n",
    "tree.insert(1)\n",
    "tree.insert(2)\n",
    "tree.insert(3)\n",
    "tree.insert(4)\n",
    "tree.insert(5)\n",
    "tree.insert(6)\n",
    "tree.insert(7)\n",
    "\n",
    "print(\"Pre-order traversal:\")\n",
    "tree.pre_order()\n",
    "\n",
    "print(\"Post-order traversal:\")\n",
    "tree.post_order()\n",
    "\n",
    "print(\"In-order traversal:\")\n",
    "tree.in_order()"
   ]
  },
  {
   "cell_type": "code",
   "execution_count": null,
   "id": "e52bb947",
   "metadata": {},
   "outputs": [],
   "source": [
    "# 4.Function to print all the leaves in a given binary tree."
   ]
  },
  {
   "cell_type": "code",
   "execution_count": 9,
   "id": "4015a409",
   "metadata": {},
   "outputs": [
    {
     "name": "stdout",
     "output_type": "stream",
     "text": [
      "Leaves of the tree:\n",
      "4 5 6 7 "
     ]
    }
   ],
   "source": [
    "class BinaryTree:\n",
    "    def __init__(self):\n",
    "        self.tree = []\n",
    "    \n",
    "    def insert(self, value):\n",
    "        self.tree.append(value)\n",
    "    \n",
    "    def print_leaves(self):\n",
    "        self._print_leaves_recursive(0)\n",
    "    \n",
    "    def _print_leaves_recursive(self, index):\n",
    "        if index >= len(self.tree):\n",
    "            return\n",
    "        \n",
    "        left_child = 2 * index + 1\n",
    "        right_child = 2 * index + 2\n",
    "        \n",
    "        if left_child >= len(self.tree) and right_child >= len(self.tree):\n",
    "            print(self.tree[index], end=\" \")\n",
    "        \n",
    "        self._print_leaves_recursive(left_child)\n",
    "        self._print_leaves_recursive(right_child)\n",
    "\n",
    "# Create a sample binary tree using a linear structure\n",
    "tree = BinaryTree()\n",
    "tree.insert(1)\n",
    "tree.insert(2)\n",
    "tree.insert(3)\n",
    "tree.insert(4)\n",
    "tree.insert(5)\n",
    "tree.insert(6)\n",
    "tree.insert(7)\n",
    "\n",
    "print(\"Leaves of the tree:\")\n",
    "tree.print_leaves()"
   ]
  },
  {
   "cell_type": "code",
   "execution_count": null,
   "id": "ea22fa4e",
   "metadata": {},
   "outputs": [],
   "source": [
    "# 5.Implement BFS (Breath First Search) and DFS (Depth First Search)"
   ]
  },
  {
   "cell_type": "code",
   "execution_count": 11,
   "id": "0f4767e7",
   "metadata": {},
   "outputs": [
    {
     "name": "stdout",
     "output_type": "stream",
     "text": [
      "BFS traversal:\n",
      "1 2 3 4 5 6 7 \n",
      "DFS traversal:\n",
      "1 2 4 5 3 6 7 \n"
     ]
    }
   ],
   "source": [
    "class BinaryTree:\n",
    "    def __init__(self):\n",
    "        self.tree = []\n",
    "    \n",
    "    def insert(self, value):\n",
    "        self.tree.append(value)\n",
    "    \n",
    "    def bfs(self):\n",
    "        if not self.tree:\n",
    "            return\n",
    "        \n",
    "        queue = [0]\n",
    "        while queue:\n",
    "            index = queue.pop(0)\n",
    "            print(self.tree[index], end=\" \")\n",
    "            \n",
    "            left_child = 2 * index + 1\n",
    "            right_child = 2 * index + 2\n",
    "            \n",
    "            if left_child < len(self.tree):\n",
    "                queue.append(left_child)\n",
    "            if right_child < len(self.tree):\n",
    "                queue.append(right_child)\n",
    "        \n",
    "        print()\n",
    "    \n",
    "    def dfs(self):\n",
    "        self._dfs_recursive(0)\n",
    "        print()\n",
    "    \n",
    "    def _dfs_recursive(self, index):\n",
    "        if index >= len(self.tree):\n",
    "            return\n",
    "        \n",
    "        print(self.tree[index], end=\" \")\n",
    "        \n",
    "        left_child = 2 * index + 1\n",
    "        right_child = 2 * index + 2\n",
    "        \n",
    "        self._dfs_recursive(left_child)\n",
    "        self._dfs_recursive(right_child)\n",
    "\n",
    "# Create a sample binary tree using a linear structure\n",
    "tree = BinaryTree()\n",
    "tree.insert(1)\n",
    "tree.insert(2)\n",
    "tree.insert(3)\n",
    "tree.insert(4)\n",
    "tree.insert(5)\n",
    "tree.insert(6)\n",
    "tree.insert(7)\n",
    "\n",
    "print(\"BFS traversal:\")\n",
    "tree.bfs()\n",
    "\n",
    "print(\"DFS traversal:\")\n",
    "tree.dfs()"
   ]
  },
  {
   "cell_type": "code",
   "execution_count": null,
   "id": "6a6e705b",
   "metadata": {},
   "outputs": [],
   "source": [
    "# 6.Find sum of all left leaves in a given Binary Tree"
   ]
  },
  {
   "cell_type": "code",
   "execution_count": 12,
   "id": "c4be81f5",
   "metadata": {},
   "outputs": [
    {
     "name": "stdout",
     "output_type": "stream",
     "text": [
      "Sum of left leaves: 16\n"
     ]
    }
   ],
   "source": [
    "class BinaryTree:\n",
    "    def __init__(self):\n",
    "        self.tree = []\n",
    "    \n",
    "    def insert(self, value):\n",
    "        self.tree.append(value)\n",
    "    \n",
    "    def sum_left_leaves(self):\n",
    "        return self._sum_left_leaves_recursive(0, False)\n",
    "    \n",
    "    def _sum_left_leaves_recursive(self, index, is_left):\n",
    "        if index >= len(self.tree):\n",
    "            return 0\n",
    "        \n",
    "        left_child = 2 * index + 1\n",
    "        right_child = 2 * index + 2\n",
    "        \n",
    "        if left_child >= len(self.tree) and right_child >= len(self.tree):\n",
    "            if is_left:\n",
    "                return self.tree[index]\n",
    "            else:\n",
    "                return 0\n",
    "        \n",
    "        left_sum = self._sum_left_leaves_recursive(left_child, True)\n",
    "        right_sum = self._sum_left_leaves_recursive(right_child, False)\n",
    "        \n",
    "        return left_sum + right_sum\n",
    "\n",
    "# Create a sample binary tree using a linear structure\n",
    "tree = BinaryTree()\n",
    "tree.insert(20)\n",
    "tree.insert(9)\n",
    "tree.insert(25)\n",
    "tree.insert(5)\n",
    "tree.insert(12)\n",
    "tree.insert(11)\n",
    "tree.insert(14)\n",
    "\n",
    "sum_left = tree.sum_left_leaves()\n",
    "print(\"Sum of left leaves:\", sum_left)"
   ]
  },
  {
   "cell_type": "code",
   "execution_count": null,
   "id": "ecc145f6",
   "metadata": {},
   "outputs": [],
   "source": [
    "# 7.Find sum of all nodes of the given perfect binary tree"
   ]
  },
  {
   "cell_type": "code",
   "execution_count": 13,
   "id": "1140c87e",
   "metadata": {},
   "outputs": [
    {
     "name": "stdout",
     "output_type": "stream",
     "text": [
      "Sum of all nodes in the perfect binary tree: 28\n"
     ]
    }
   ],
   "source": [
    "class BinaryTree:\n",
    "    def __init__(self):\n",
    "        self.tree = []\n",
    "    \n",
    "    def insert(self, value):\n",
    "        self.tree.append(value)\n",
    "    \n",
    "    def sum_perfect_binary_tree(self):\n",
    "        return sum(self.tree)\n",
    "\n",
    "# Create a sample perfect binary tree using a linear structure\n",
    "tree = BinaryTree()\n",
    "tree.insert(1)\n",
    "tree.insert(2)\n",
    "tree.insert(3)\n",
    "tree.insert(4)\n",
    "tree.insert(5)\n",
    "tree.insert(6)\n",
    "tree.insert(7)\n",
    "\n",
    "total_sum = tree.sum_perfect_binary_tree()\n",
    "print(\"Sum of all nodes in the perfect binary tree:\", total_sum)"
   ]
  },
  {
   "cell_type": "code",
   "execution_count": null,
   "id": "0586ae29",
   "metadata": {},
   "outputs": [],
   "source": [
    "# 8.Count subtress that sum up to a given value x in a binary tree"
   ]
  },
  {
   "cell_type": "code",
   "execution_count": 15,
   "id": "90b86462",
   "metadata": {},
   "outputs": [
    {
     "name": "stdout",
     "output_type": "stream",
     "text": [
      "Number of subtrees with sum 8: 0\n"
     ]
    }
   ],
   "source": [
    "class BinaryTree:\n",
    "    def __init__(self):\n",
    "        self.tree = []\n",
    "    \n",
    "    def insert(self, value):\n",
    "        self.tree.append(value)\n",
    "    \n",
    "    def count_subtrees_with_sum(self, target_sum):\n",
    "        return self._count_subtrees_with_sum_recursive(0, target_sum)\n",
    "    \n",
    "    def _count_subtrees_with_sum_recursive(self, index, target_sum):\n",
    "        if index >= len(self.tree):\n",
    "            return 0\n",
    "        \n",
    "        left_child = 2 * index + 1\n",
    "        right_child = 2 * index + 2\n",
    "        \n",
    "        subtree_sum = self._subtree_sum(index)\n",
    "        count = 1 if subtree_sum == target_sum else 0\n",
    "        \n",
    "        left_count = self._count_subtrees_with_sum_recursive(left_child, target_sum)\n",
    "        right_count = self._count_subtrees_with_sum_recursive(right_child, target_sum)\n",
    "        \n",
    "        return count + left_count + right_count\n",
    "    \n",
    "    def _subtree_sum(self, index):\n",
    "        if index >= len(self.tree):\n",
    "            return 0\n",
    "        left_child = 2 * index + 1\n",
    "        right_child = 2 * index + 2\n",
    "        return self.tree[index] + self._subtree_sum(left_child) + self._subtree_sum(right_child)\n",
    "\n",
    "# Create a sample binary tree using a linear structure\n",
    "tree = BinaryTree()\n",
    "tree.insert(10)\n",
    "tree.insert(5)\n",
    "tree.insert(-3)\n",
    "tree.insert(3)\n",
    "tree.insert(2)\n",
    "tree.insert(11)\n",
    "tree.insert(3)\n",
    "tree.insert(-2)\n",
    "tree.insert(1)\n",
    "\n",
    "target_sum = 8\n",
    "count = tree.count_subtrees_with_sum(target_sum)\n",
    "print(f\"Number of subtrees with sum {target_sum}: {count}\")"
   ]
  },
  {
   "cell_type": "code",
   "execution_count": null,
   "id": "6e222205",
   "metadata": {},
   "outputs": [],
   "source": [
    "# 9.Find maximum level sum in Binary Tree"
   ]
  },
  {
   "cell_type": "code",
   "execution_count": 17,
   "id": "1aaef362",
   "metadata": {},
   "outputs": [
    {
     "name": "stdout",
     "output_type": "stream",
     "text": [
      "Maximum level sum: 28\n"
     ]
    }
   ],
   "source": [
    "class BinaryTree:\n",
    "    def __init__(self):\n",
    "        self.tree = []\n",
    "    \n",
    "    def insert(self, value):\n",
    "        self.tree.append(value)\n",
    "    \n",
    "    def max_level_sum(self):\n",
    "        if not self.tree:\n",
    "            return 0\n",
    "        \n",
    "        max_sum = float(\"-inf\")\n",
    "        current_level_sum = 0\n",
    "        level_size = 1\n",
    "        level_index = 0\n",
    "        \n",
    "        while level_index < len(self.tree):\n",
    "            current_level_sum += self.tree[level_index]\n",
    "            level_size -= 1\n",
    "            left_child = 2 * level_index + 1\n",
    "            right_child = 2 * level_index + 2\n",
    "            \n",
    "            if left_child < len(self.tree):\n",
    "                level_size += 1\n",
    "            if right_child < len(self.tree):\n",
    "                level_size += 1\n",
    "            \n",
    "            if level_size == 0:\n",
    "                max_sum = max(max_sum, current_level_sum)\n",
    "                current_level_sum = 0\n",
    "                level_size = 2 * level_size\n",
    "            \n",
    "            level_index += 1\n",
    "        \n",
    "        return max_sum\n",
    "\n",
    "# Create a sample binary tree using a linear structure\n",
    "tree = BinaryTree()\n",
    "tree.insert(1)\n",
    "tree.insert(2)\n",
    "tree.insert(3)\n",
    "tree.insert(4)\n",
    "tree.insert(5)\n",
    "tree.insert(6)\n",
    "tree.insert(7)\n",
    "\n",
    "max_sum = tree.max_level_sum()\n",
    "print(\"Maximum level sum:\", max_sum)"
   ]
  },
  {
   "cell_type": "code",
   "execution_count": null,
   "id": "f287f2e6",
   "metadata": {},
   "outputs": [],
   "source": [
    "# 10.Print the nodes at odd levels of a tree"
   ]
  },
  {
   "cell_type": "code",
   "execution_count": 19,
   "id": "b910cd52",
   "metadata": {},
   "outputs": [
    {
     "name": "stdout",
     "output_type": "stream",
     "text": [
      "Nodes at odd levels:\n",
      "1 4 5 6 7 "
     ]
    }
   ],
   "source": [
    "class BinaryTree:\n",
    "    def __init__(self):\n",
    "        self.tree = []\n",
    "    \n",
    "    def insert(self, value):\n",
    "        self.tree.append(value)\n",
    "    \n",
    "    def print_odd_level_nodes(self):\n",
    "        self._print_odd_level_nodes_recursive(0, 1)\n",
    "    \n",
    "    def _print_odd_level_nodes_recursive(self, index, level):\n",
    "        if index >= len(self.tree):\n",
    "            return\n",
    "        \n",
    "        if level % 2 != 0:\n",
    "            print(self.tree[index], end=\" \")\n",
    "        \n",
    "        left_child = 2 * index + 1\n",
    "        right_child = 2 * index + 2\n",
    "        \n",
    "        self._print_odd_level_nodes_recursive(left_child, level + 1)\n",
    "        self._print_odd_level_nodes_recursive(right_child, level + 1)\n",
    "\n",
    "# Create a sample binary tree using a linear structure\n",
    "tree = BinaryTree()\n",
    "tree.insert(1)\n",
    "tree.insert(2)\n",
    "tree.insert(3)\n",
    "tree.insert(4)\n",
    "tree.insert(5)\n",
    "tree.insert(6)\n",
    "tree.insert(7)\n",
    "tree.insert(8)\n",
    "tree.insert(9)\n",
    "tree.insert(10)\n",
    "\n",
    "print(\"Nodes at odd levels:\")\n",
    "tree.print_odd_level_nodes()"
   ]
  },
  {
   "cell_type": "code",
   "execution_count": null,
   "id": "2c49dd32",
   "metadata": {},
   "outputs": [],
   "source": []
  }
 ],
 "metadata": {
  "kernelspec": {
   "display_name": "Python 3 (ipykernel)",
   "language": "python",
   "name": "python3"
  },
  "language_info": {
   "codemirror_mode": {
    "name": "ipython",
    "version": 3
   },
   "file_extension": ".py",
   "mimetype": "text/x-python",
   "name": "python",
   "nbconvert_exporter": "python",
   "pygments_lexer": "ipython3",
   "version": "3.11.3"
  }
 },
 "nbformat": 4,
 "nbformat_minor": 5
}
